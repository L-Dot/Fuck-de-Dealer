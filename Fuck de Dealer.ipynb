{
 "cells": [
  {
   "cell_type": "code",
   "execution_count": 274,
   "metadata": {},
   "outputs": [
    {
     "name": "stdout",
     "output_type": "stream",
     "text": [
      "[0.         0.         0.         0.         0.5        0.83333333\n",
      " 1.         1.         1.         1.         1.         1.\n",
      " 1.        ]\n",
      "6\n"
     ]
    },
    {
     "data": {
      "image/png": "[encoded data removed]",
      "text/plain": [
       "<matplotlib.figure.Figure at 0x7fcb0f79da20>"
      ]
     },
     "metadata": {},
     "output_type": "display_data"
    }
   ],
   "source": [
    "%matplotlib inline\n",
    "import numpy as np\n",
    "import matplotlib.pyplot as plt\n",
    "from matplotlib.pyplot import show\n",
    "\n",
    "card = ['2', '3', '4', '5', '6', '7', '8', '9', '10', 'Jack', 'Queen', 'King', 'Ace']\n",
    "\n",
    "def best1st(chance):\n",
    "    centre = np.cumsum(chance)              # Making a cumulative list of the chances\n",
    "    print(centre)\n",
    "    best = (abs(centre - .5)).argmin()      # Finding the nearest value to 50%\n",
    "    return card[best]\n",
    "\n",
    "def best2nd(chance):\n",
    "    higher\n",
    "\n",
    "# A function that takes a count array, draws a (random) card and then \n",
    "# calculates the new chance for each card to be drawn.\n",
    "def newchance(count):\n",
    "    cards = np.sum(count)\n",
    "    while True:\n",
    "        picked = np.random.randint(0, len(count))\n",
    "        if count[picked] == 0:\n",
    "            continue\n",
    "        else:\n",
    "            count[picked] -= 1\n",
    "            if np.sum(count) != 0:\n",
    "                chance = count/np.sum(count)\n",
    "                return chance, count\n",
    "            else:\n",
    "                chance = np.zeros(len(count))\n",
    "                return chance, count\n",
    "            \n",
    "# A function that simulates a game. Plug in a starting list for the counts \n",
    "# of each card and then choose the number of iterations (card draws). The \n",
    "# result is the new chance after n number of card draws.\n",
    "def simulation(count, iterations):\n",
    "    cards = np.sum(count)\n",
    "    if iterations == 0:\n",
    "        return count/cards, count, cards\n",
    "    else:\n",
    "        while iterations > 0:\n",
    "            if np.sum(count) != 0:\n",
    "                chance, count = newchance(count)\n",
    "                iterations -= 1\n",
    "                continue\n",
    "        return chance, count\n",
    "\n",
    "    \n",
    "    \n",
    "count = np.array([4 for _ in range(13)])\n",
    "nchance, ncount = simulation(count, 46)\n",
    "print(best1st(nchance))\n",
    "\n",
    "\n",
    "#print(newchance(count, cards))\n",
    "\n",
    "fig = plt.figure(figsize=(12,9))\n",
    "ax = fig.add_subplot(111)\n",
    "ax.bar(range(13), nchance*100)\n",
    "ax.set_ylabel('Chance (%)')\n",
    "ax2 = ax.twinx()\n",
    "ax2.bar(range(13), ncount)\n",
    "ax2.set_ylabel('Count')\n",
    "plt.xticks(range(13), card, rotation=30)\n",
    "show()"
   ]
  },
  {
   "cell_type": "code",
   "execution_count": null,
   "metadata": {},
   "outputs": [],
   "source": []
  }
 ],
 "metadata": {
  "kernelspec": {
   "display_name": "Python 3",
   "language": "python",
   "name": "python3"
  },
  "language_info": {
   "codemirror_mode": {
    "name": "ipython",
    "version": 3
   },
   "file_extension": ".py",
   "mimetype": "text/x-python",
   "name": "python",
   "nbconvert_exporter": "python",
   "pygments_lexer": "ipython3",
   "version": "3.6.4"
  }
 },
 "nbformat": 4,
 "nbformat_minor": 2
}
